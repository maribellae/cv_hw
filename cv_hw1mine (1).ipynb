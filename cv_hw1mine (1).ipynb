{
  "cells": [
    {
      "cell_type": "markdown",
      "id": "6af5dede",
      "metadata": {
        "id": "6af5dede"
      },
      "source": [
        "## Компьютерное зрение в робототехнике | Домашнее задание 2\n",
        "\n",
        "В этом домашнем задании нужно будет реализовать подсчет числа пальцев, которые показывает человек на видео fingers.mov из папки data.\n",
        "\n",
        "Для удобства реализации значительная часть кода уже написана. Внимательно изнакомьтесь с заготовками, поймите, что происходит в коде и для чего нужна каждая конкретная функция.\n",
        "\n",
        "Есть много вариантов, как можно подступиться к этой задаче. Приведем некоторые из них:\n",
        "\n",
        "**Скелетонизация**\n",
        "- получение маски\n",
        "- обработка (фильтрация шумов, сглаживание)\n",
        "- удаление всего, кроме самой большой связной компоненты\n",
        "- скелетонизация (можно загуглить opencv skeletonization)\n",
        "- нахождение кончиков пальцев (filter2d)\n",
        "- фильтрация кончиков пальцев\n",
        "\n",
        "**Дефекты выпуклости**\n",
        "- получение маски\n",
        "- обработка (фильтрация шумов, сглаживание)\n",
        "- удаление всего, кроме самой большой связной компоненты\n",
        "- нахождение контура, построение грубой аппроксимации\n",
        "- нахождение дефектов выпуклости (convexity defects)\n",
        "\n",
        "**Морфология**\n",
        "- получение маски\n",
        "- обработка (фильтрация шумов, сглаживание)\n",
        "- удаление всего, кроме самой большой связной компоненты\n",
        "- морфологические операции top hat/black hat\n",
        "\n",
        "Можно выбрать любой из этих способов, который по душе, или придумать свой. Нейронные сети и другие методы машинного обучения использовать в решении нельзя :)"
      ]
    },
    {
      "cell_type": "markdown",
      "id": "1d05ffb1",
      "metadata": {
        "id": "1d05ffb1"
      },
      "source": [
        "***\n",
        "\n",
        "<h2 style=\"color:#A7BD3F;\">Секция 1: подготовка</h2>\n",
        "\n",
        "Этот код представляет из себя в сущности обертку над функцией обработки кадра. Завершение выполнения производится с помощью нажатия кнопки 'q' (работает только для английского языка)."
      ]
    },
    {
      "cell_type": "code",
      "execution_count": 1,
      "id": "2342156d",
      "metadata": {
        "colab": {
          "base_uri": "https://localhost:8080/"
        },
        "id": "2342156d",
        "outputId": "d7942f01-7658-4701-b419-59fd8424f1ab"
      },
      "outputs": [
        {
          "output_type": "stream",
          "name": "stdout",
          "text": [
            "Looking in indexes: https://pypi.org/simple, https://us-python.pkg.dev/colab-wheels/public/simple/\n",
            "Requirement already satisfied: opencv-python in /usr/local/lib/python3.9/dist-packages (4.6.0.66)\n",
            "Requirement already satisfied: numpy>=1.17.3 in /usr/local/lib/python3.9/dist-packages (from opencv-python) (1.22.4)\n"
          ]
        }
      ],
      "source": [
        "!pip install opencv-python"
      ]
    },
    {
      "cell_type": "code",
      "execution_count": 2,
      "id": "e80f4d80",
      "metadata": {
        "id": "e80f4d80"
      },
      "outputs": [],
      "source": [
        "import numpy as np\n",
        "import cv2\n",
        "\n",
        "class FrameProcessor:\n",
        "    def __init__(self):\n",
        "        pass\n",
        "    \n",
        "    def processing_loop(self, source, lth, hth, max_frame_num = -1,\\\n",
        "                        alternative_source=\"\", save_to_file=\"\"):\n",
        "        i = 0\n",
        "        results = []\n",
        "\n",
        "        output_file = None\n",
        "        \n",
        "        \n",
        "        while (True):\n",
        "            retval, frame = source.read()\n",
        "\n",
        "            if (retval == False):\n",
        "                print(\"Cannot read frame\")\n",
        "                \n",
        "                if (alternative_source != \"\"):\n",
        "                    print(\"Opening alternative source \", alternative_source)\n",
        "                    source = cv2.VideoCapture(alternative_source)\n",
        "                    continue\n",
        "                \n",
        "                else:\n",
        "                    print(\"Exiting loop\")\n",
        "                    break\n",
        "\n",
        "            result = self.process_frame(frame, lth, hth)\n",
        "            \n",
        "            results.append(result)\n",
        "\n",
        "            key = cv2.waitKey(100) & 0xFF\n",
        "\n",
        "            i += 1\n",
        "\n",
        "            if (key == ord('q')):\n",
        "                break\n",
        "                        \n",
        "            if (max_frame_num != -1 and i >= max_frame_num):\n",
        "                break\n",
        "\n",
        "        return results\n",
        "    \n",
        "    def process_frame(self, frame, lth, hth):\n",
        "        return 5"
      ]
    },
    {
      "cell_type": "code",
      "source": [
        "import cv2 \n",
        "import numpy as np\n",
        "def filter_cc(mask, area_th = -1):\n",
        "    connectivity = 4\n",
        "    output = cv2.connectedComponentsWithStats(mask, connectivity, cv2.CV_32S)\n",
        "    num_labels = output[0]\n",
        "   # print(num_labels)\n",
        "    labels = output[1]\n",
        "    stats = output[2]\n",
        "        #centroids = output[3]\n",
        "\n",
        "    if (num_labels < 1):\n",
        "        return mask\n",
        "        \n",
        "    if (area_th == -1):\n",
        "        max_area = 1\n",
        "        max_label = 1\n",
        "            \n",
        "        for i in range(1, num_labels):\n",
        "            area = stats[i, cv2.CC_STAT_AREA]\n",
        "                \n",
        "            if (area > max_area):\n",
        "                max_area = area\n",
        "                max_label = i\n",
        "            \n",
        "        for i in range(1, len(stats)):\n",
        "            if (i != max_label):\n",
        "                mask[np.where(labels == i)] = 0\n",
        "                    \n",
        "    else:\n",
        "        for i in range(len(stats)):\n",
        "            area = stats[i, cv2.CC_STAT_AREA]\n",
        "\n",
        "            if (area < area_th):\n",
        "                mask[np.where(labels == i)] = 0\n",
        "\n",
        "    return mask"
      ],
      "metadata": {
        "id": "CVwL4QxYeMXk"
      },
      "id": "CVwL4QxYeMXk",
      "execution_count": 9,
      "outputs": []
    },
    {
      "cell_type": "markdown",
      "id": "db713c09",
      "metadata": {
        "id": "db713c09"
      },
      "source": [
        "***\n",
        "\n",
        "<h2 style=\"color:#A7BD3F;\">Секция 2: настройка цветового фильтра</h2>\n",
        "\n",
        "Настройте параметры фильтрации по цвету. Это нужно делать в цветовом пространстве *HSV*. После этого запишите найденные параметры в *lth* и *hth*, их можно будет использовать позже."
      ]
    },
    {
      "cell_type": "code",
      "execution_count": 10,
      "id": "58488c3b",
      "metadata": {
        "id": "58488c3b"
      },
      "outputs": [],
      "source": [
        "#############################################\n",
        "# YOUR DEFAULT PARAMETERS BELOW\n",
        "#############################################\n",
        "\n",
        "lth, hth = (0, 88, 97), (255, 255, 255)\n",
        "\n",
        "#############################################\n",
        "# YOUR DEFAULT PARAMETERS ABOVE\n",
        "#############################################\n",
        "\n",
        "class ColorFilterTuning(FrameProcessor):\n",
        "    def __init__(self):\n",
        "        super().__init__()\n",
        "        \n",
        "        cv2.namedWindow(\"color_filter_parameters\")\n",
        "                \n",
        "        cv2.createTrackbar('rl', 'color_filter_parameters', lth[0], 255, self.nothing)\n",
        "        cv2.createTrackbar('gl', 'color_filter_parameters', lth[1], 255, self.nothing)\n",
        "        cv2.createTrackbar('bl', 'color_filter_parameters', lth[2], 255, self.nothing)\n",
        "        cv2.createTrackbar('rh', 'color_filter_parameters', hth[0], 255, self.nothing)\n",
        "        cv2.createTrackbar('gh', 'color_filter_parameters', hth[1], 255, self.nothing)\n",
        "        cv2.createTrackbar('bh', 'color_filter_parameters', hth[2], 255, self.nothing)\n",
        "\n",
        "    def nothing(self, inp):\n",
        "        pass\n",
        "    \n",
        "    def process_frame(self, frame, lth, hth):\n",
        "        hsv = cv2.cvtColor(frame, cv2.COLOR_RGB2HSV)\n",
        "        \n",
        "        low_th =  (cv2.getTrackbarPos('rl', 'color_filter_parameters'),\n",
        "                   cv2.getTrackbarPos('gl', 'color_filter_parameters'),\n",
        "                   cv2.getTrackbarPos('bl', 'color_filter_parameters'))\n",
        "        \n",
        "        high_th = (cv2.getTrackbarPos('rh', 'color_filter_parameters'),\n",
        "                   cv2.getTrackbarPos('gh', 'color_filter_parameters'),\n",
        "                   cv2.getTrackbarPos('bh', 'color_filter_parameters'))\n",
        "        \n",
        "        mask = cv2.inRange(frame, low_th, high_th)\n",
        "        \n",
        "        cv2.imshow(\"frame\", frame)\n",
        "        cv2.imshow(\"mask\", mask)\n",
        "        \n",
        "        return (low_th, high_th)"
      ]
    },
    {
      "cell_type": "code",
      "source": [
        "!git clone https://github.com/StarkitRobots/cvr_course.git"
      ],
      "metadata": {
        "colab": {
          "base_uri": "https://localhost:8080/"
        },
        "id": "cY5NqLiidkZN",
        "outputId": "0c947f9e-20dd-4ae5-91ba-c6ad685e3910"
      },
      "id": "cY5NqLiidkZN",
      "execution_count": 5,
      "outputs": [
        {
          "output_type": "stream",
          "name": "stdout",
          "text": [
            "Cloning into 'cvr_course'...\n",
            "remote: Enumerating objects: 562, done.\u001b[K\n",
            "remote: Counting objects:  14% (1/7)\u001b[K\rremote: Counting objects:  28% (2/7)\u001b[K\rremote: Counting objects:  42% (3/7)\u001b[K\rremote: Counting objects:  57% (4/7)\u001b[K\rremote: Counting objects:  71% (5/7)\u001b[K\rremote: Counting objects:  85% (6/7)\u001b[K\rremote: Counting objects: 100% (7/7)\u001b[K\rremote: Counting objects: 100% (7/7), done.\u001b[K\n",
            "remote: Compressing objects: 100% (7/7), done.\u001b[K\n",
            "remote: Total 562 (delta 0), reused 4 (delta 0), pack-reused 555\u001b[K\n",
            "Receiving objects: 100% (562/562), 69.95 MiB | 45.36 MiB/s, done.\n",
            "Resolving deltas: 100% (139/139), done.\n"
          ]
        }
      ]
    },
    {
      "cell_type": "code",
      "execution_count": 6,
      "id": "e435483c",
      "metadata": {
        "id": "e435483c"
      },
      "outputs": [],
      "source": [
        "import numpy as np\n",
        "import cv2\n",
        "\n",
        "video_file = \"cvr_course/data/videos/fingers.mov\"\n",
        "\n",
        "cam = cv2.VideoCapture(video_file)"
      ]
    },
    {
      "cell_type": "markdown",
      "id": "56580828",
      "metadata": {
        "id": "56580828"
      },
      "source": [
        "***\n",
        "\n",
        "<h2 style=\"color:#A7BD3F;\">Секция 3: подсчет пальцев</h2>\n",
        "\n",
        "Реализуйте алгоритм нахождения числа пальцев, закомментировав функцию, которая всегда возвращает 3 и написав свою. Вы можете использовать *lth* и *hth*, которые получили выше. Заготовленные функции для обработки масок можно использовать, а можно и не использовать."
      ]
    },
    {
      "cell_type": "code",
      "execution_count": 11,
      "id": "b99342f5",
      "metadata": {
        "id": "b99342f5"
      },
      "outputs": [],
      "source": [
        "class FingersCounter(FrameProcessor):\n",
        "    def __init__(self):\n",
        "        super().__init__()\n",
        "\n",
        "   \n",
        "    def process_frame(self, img, lth, hth):\n",
        "        #############################################\n",
        "        # YOUR CODE BELOW\n",
        "        #############################################\n",
        "        img_gray = cv2.cvtColor(img,cv2.COLOR_BGR2GRAY)\n",
        "        ret, thresh = cv2.threshold(img_gray, 100, 255, cv2.THRESH_BINARY_INV)\n",
        "        img = filter_cc(thresh)\n",
        "        \n",
        "        img = img[180:580, 600:1000] \n",
        "    \n",
        "        contours,_ = cv2.findContours(img,cv2.RETR_TREE,cv2.CHAIN_APPROX_NONE)\n",
        "\n",
        "        max=0\n",
        "        sel_countour=None\n",
        "        for countour in contours:\n",
        "            if countour.shape[0]>max:\n",
        "                sel_countour=countour\n",
        "                max=countour.shape[0]\n",
        "\n",
        "        arclen = cv2.arcLength(sel_countour, True)\n",
        "\n",
        "        # approx\n",
        "        eps =  0.01\n",
        "        epsilon = arclen * eps\n",
        "        approx = cv2.approxPolyDP(sel_countour, epsilon, True)\n",
        "\n",
        "     \n",
        "        img_contours = np.uint8(np.zeros((img.shape[0],img.shape[1])))\n",
        "        cv2.drawContours(img_contours, [approx], -1, (255,255,255), 1)\n",
        "        \n",
        "\n",
        "        #cv2.imshow('contours', img_contours) # выводим итоговое изображение в окно\n",
        "        #cv2.waitKey(0)\n",
        "        \n",
        "        fingers_num = approx.shape[0]\n",
        "\n",
        "        if (approx.shape[0] >=15):\n",
        "            fingers_num  =5\n",
        "        elif ((approx.shape[0] >=9)&(approx.shape[0] <=10) | (approx.shape[0]==4)):   \n",
        "            fingers_num  =0\n",
        "        elif ((approx.shape[0] >=14)&(approx.shape[0] <=15) | (approx.shape[0]==18)): \n",
        "            fingers_num  =4\n",
        "        elif (approx.shape[0] ==13): \n",
        "            fingers_num  =1    \n",
        "        else:\n",
        "            fingers_num  =2   \n",
        "        \n",
        "        \n",
        "        #НИЖЕ МОИ ДРУГИЕ ПОПЫТКИ , НА НИХ МОЖНО НЕ СМОТРЕТЬ\n",
        "        \n",
        "        \n",
        "       # cv2.imshow('contours', img_contours) \n",
        "\n",
        "        #cv2.waitKey(0)\n",
        "       # print(img_contours.shape)\n",
        "        #cropped = img_contours[180:580, 400:1000]\n",
        "       # cv2.imshow(\"cropped\", cropped )\n",
        "       # cv2.waitKey(0)\n",
        "        #cv2.destroyAllWindows()        \n",
        "        # здесь надо удалить контуры доски\n",
        "        '''  kernel =kernel = np.array([[10, -10, -10, -10, -10], \n",
        "                                   [-10, -10, -10, -10, -10], \n",
        "                                   [-10, -10, 10, -10, -10], \n",
        "                                   [-10, -10, -10,-10, -10], \n",
        "                                   [10, -10,  -10,  -10, -10]])\n",
        "\n",
        "        resulti\n",
        "        ng_image = cv2.filter2D(img_contours, -1, kernel)\n",
        "        cv2.imshow(\"filter2d image\", resulting_image)\n",
        "        cv2.waitKey()\n",
        "        cv2.destroyAllWindows()\n",
        "        contours,_ = cv2.findContours(cropped,2,1)\n",
        "       # print (contours[0])\n",
        "       \n",
        "        cnt = contours[0]\n",
        "        \n",
        " \n",
        "        \n",
        "       \n",
        "       # cnt = approx\n",
        "       # print (approx.shape[0])\n",
        "        hull = cv2.convexHull(cnt,returnPoints = False)\n",
        "        defects = cv2.convexityDefects(cnt,hull)\n",
        "        for i in range(defects.shape[0]):\n",
        "            s,e,f,d = defects[i,0]\n",
        "            start = tuple(cnt[s][0])\n",
        "            end = tuple(cnt[e][0])\n",
        "            far = tuple(cnt[f][0])\n",
        "            cv2.line(cropped,start,end,[200,255,200],2)\n",
        "            cv2.circle(cropped,far,5,[200,200,255],-1)\n",
        " \n",
        "       # cv2.imshow('final_img',cropped)\n",
        "        #cv2.waitKey(0)\n",
        "        \n",
        "        fingers_num  = defects.shape[0]\n",
        "          for i in range (defects.shape[0]):\n",
        "            if defects[i,:,3] >300 :\n",
        "                fingers_num += 1\n",
        "        print (defects[:,:,3])'''\n",
        "        # cv2.imshow('origin', canvas) # выводим итоговое изображение в окно\n",
        "        #cv2.imshow('res', img_contours) # выводим итоговое изображение в окно\n",
        "\n",
        "        #cv2.waitKey()'''\n",
        "        #############################################\n",
        "        # YOUR CODE ABOVE\n",
        "        #############################################\n",
        "        \n",
        "    #    cv2.imshow(\"stages\", stages_concat)\n",
        "      #  fingers_num = approx.shape[0] - 9 \n",
        "        \n",
        "        \n",
        "        return fingers_num"
      ]
    },
    {
      "cell_type": "code",
      "execution_count": 12,
      "id": "e42c068f",
      "metadata": {
        "colab": {
          "base_uri": "https://localhost:8080/"
        },
        "id": "e42c068f",
        "outputId": "d019ee34-babf-4703-8f5c-c7e458cb38bd"
      },
      "outputs": [
        {
          "output_type": "stream",
          "name": "stdout",
          "text": [
            "Cannot read frame\n",
            "Exiting loop\n",
            "[5, 5, 0, 0, 0, 5, 5, 5, 0, 0, 0, 5, 5, 5, 5, 4, 1, 1, 1, 1, 0, 0, 0, 0, 2, 2, 2, 2, 2, 2, 2, 2, 2, 2, 1, 2, 2, 1, 1, 4, 1, 5, 5, 5, 4, 4, 5, 4, 2, 1, 5, 5, 5, 5, 1, 2, 2, 2, 2, 0, 0, 0, 2, 0, 2, 2, 2, 2, 2, 2, 2, 2, 2, 2, 2, 0, 0, 0, 0, 0, 0, 2, 1, 1, 1, 1, 1, 1, 1, 5, 2, 0, 0, 0, 0, 0]\n"
          ]
        }
      ],
      "source": [
        "cam = cv2.VideoCapture(video_file)\n",
        "\n",
        "\n",
        "finger_counter = FingersCounter()\n",
        "\n",
        "fingers_num = finger_counter.processing_loop(cam, lth, hth) \n",
        "\n",
        "print(fingers_num)"
      ]
    },
    {
      "cell_type": "markdown",
      "id": "ec30ee1f",
      "metadata": {
        "id": "ec30ee1f"
      },
      "source": [
        "***\n",
        "\n",
        "<h2 style=\"color:#A7BD3F;\">Секция 4: оценивание</h2>\n",
        "\n",
        "Решение, дающее значения метрики *accuracy* *0.5* и более, оцениваются полным баллом с линейной интерполяцией в области меньших значений.\n",
        "\n",
        "Выполните эту клетку для получения своей оценки, изучите, как она была посчитана. Если в процессе выполнения задания появились вопросы или проблемы, пишите в чат или @elijahmipt в телеграме."
      ]
    },
    {
      "cell_type": "code",
      "execution_count": 13,
      "id": "35ef2340",
      "metadata": {
        "colab": {
          "base_uri": "https://localhost:8080/"
        },
        "id": "35ef2340",
        "outputId": "0859120a-d3cf-4d3b-8f59-6ad5e7748b27"
      },
      "outputs": [
        {
          "output_type": "stream",
          "name": "stdout",
          "text": [
            "Your grade is  \u001b[92m100 out of 100; 52 frames out of 96\u001b[0m\n"
          ]
        }
      ],
      "source": [
        "reference_fingers_num = [5, 5, 1, 0, 0, 5, 5, 5, 0, 0, 0, 5, 5, 5, 5, 4, 3, 3,\\\n",
        "                         3, 3, 3, 3, 1, 1, 2, 2, 2, 2, 2, 1, 1, 1, 1, 1, 2, 2,\\\n",
        "                         2, 2, 2, 2, 3, 4, 4, 4, 4, 4, 4, 5, 5, 5, 5, 5, 5, 5,\\\n",
        "                         2, 2, 2, 2, 2, 1, 1, 1, 1, 2, 2, 2, 2, 2, 2, 2, 2, 2,\\\n",
        "                         2, 2, 1, 2, 2, 2, 1, 2, 2, 2, 1, 2, 1, 1, 1, 1, 1, 1,\\\n",
        "                         3, 4, 0, 0, 0, 1]\n",
        "\n",
        "max_grade = 100\n",
        "\n",
        "corr_num = 0\n",
        "\n",
        "for r, s in zip(reference_fingers_num, fingers_num):\n",
        "    if (r == s):\n",
        "        corr_num += 1\n",
        "\n",
        "acc = corr_num / len(reference_fingers_num)\n",
        "#print(\"correct \", corr_num, \" out of \", len(reference_fingers_num),\n",
        "#      corr_num / len(reference_fingers_num))\n",
        "\n",
        "grade = min(acc * 2, 1) * max_grade\n",
        "\n",
        "print(\"Your grade is \", \"\\033[92m{}\\033[0m\".format(str(int(grade)) +\\\n",
        "        \" out of \" + str(max_grade) + \"; \" + str(corr_num) + \" frames out of \"\n",
        "        + str(len(reference_fingers_num))))"
      ]
    },
    {
      "cell_type": "code",
      "execution_count": 14,
      "id": "6439df30",
      "metadata": {
        "colab": {
          "base_uri": "https://localhost:8080/"
        },
        "id": "6439df30",
        "outputId": "68ae987d-0eb5-4ed5-975d-f32a1eedde02"
      },
      "outputs": [
        {
          "output_type": "execute_result",
          "data": {
            "text/plain": [
              "0.5416666666666666"
            ]
          },
          "metadata": {},
          "execution_count": 14
        }
      ],
      "source": [
        "acc"
      ]
    },
    {
      "cell_type": "markdown",
      "id": "9a0a08ad",
      "metadata": {
        "id": "9a0a08ad"
      },
      "source": [
        "Примечание : я пробовала разными способами, через ConvexHull у меня не получилось корректно определить дефекты, он либо говорил о пересечениях контура, либо обводил только доску, что логично . Пробовала аппроксимированный контур прогнать через фильтр 2d , но не получилось подобрать , чтобы все было видно , что мне нужно. В итоге остановилась на approxPolyDP над обрезанной картинкой , если не обрезать , то там все едет по количеству, ведь здесь счет на каждую точку идет . Подбор трэшхолдов я вручную сделала по своим картинкам . Зависимость почти линейная. Только вот тройки моя программа не любит , с ними получается та же характеристика, что и для единичек :( Тем не менее, accuracy = 0.54 \n",
        "\n",
        "\n",
        "Еще у меня была идея сделать функцию, считающую количество углов в контуре меньше примерно 50-60 градусов, тогда бы работало тоже, но я не знаю пока как это делается корректно \n",
        "\n",
        "Ps :  делала в Jupiter сначала\n",
        "\n",
        "\n",
        "\n",
        "Ниже картинки, по которым я оценивала ( в коде я закомментировала их вывод, чтоб не мешало )"
      ]
    },
    {
      "cell_type": "markdown",
      "source": [
        "![Снимок экрана (941).png](data:image/png;base64,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)"
      ],
      "metadata": {
        "id": "petooknsg-bu"
      },
      "id": "petooknsg-bu"
    },
    {
      "cell_type": "markdown",
      "source": [
        "![Снимок экрана (947).png](data:image/png;base64,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)"
      ],
      "metadata": {
        "id": "DN04zPH_hhRo"
      },
      "id": "DN04zPH_hhRo"
    },
    {
      "cell_type": "markdown",
      "source": [
        "![Снимок экрана (948).png](data:image/png;base64,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)"
      ],
      "metadata": {
        "id": "Ye3zcV0xhkHn"
      },
      "id": "Ye3zcV0xhkHn"
    }
  ],
  "metadata": {
    "kernelspec": {
      "display_name": "Python 3 (ipykernel)",
      "language": "python",
      "name": "python3"
    },
    "language_info": {
      "codemirror_mode": {
        "name": "ipython",
        "version": 3
      },
      "file_extension": ".py",
      "mimetype": "text/x-python",
      "name": "python",
      "nbconvert_exporter": "python",
      "pygments_lexer": "ipython3",
      "version": "3.9.7"
    },
    "colab": {
      "provenance": []
    }
  },
  "nbformat": 4,
  "nbformat_minor": 5
}